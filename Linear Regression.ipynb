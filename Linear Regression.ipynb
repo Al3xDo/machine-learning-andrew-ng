{
 "cells": [
  {
   "cell_type": "markdown",
   "metadata": {},
   "source": [
    "# Linear Regression"
   ]
  },
  {
   "cell_type": "markdown",
   "metadata": {},
   "source": [
    "This notebook has some experiments of the linear regression methods implemented in linear_regression.py. Some parts of the experiments are based on Programming Exercise 1 of course Machine Learning on Coursera."
   ]
  },
  {
   "cell_type": "markdown",
   "metadata": {},
   "source": [
    "#### Imports"
   ]
  },
  {
   "cell_type": "code",
   "execution_count": 1,
   "metadata": {},
   "outputs": [],
   "source": [
    "import matplotlib.pyplot as plt\n",
    "import numpy as np\n",
    "import pandas as pd\n",
    "import seaborn as sns\n",
    "%matplotlib inline"
   ]
  },
  {
   "cell_type": "code",
   "execution_count": 2,
   "metadata": {},
   "outputs": [],
   "source": [
    "%load_ext autoreload\n",
    "%autoreload 1\n",
    "%aimport linear_regression"
   ]
  },
  {
   "cell_type": "markdown",
   "metadata": {},
   "source": [
    "## Linear regression with one variable\n",
    "> \"Suppose you are the CEO of a restaurant franchise and are considering different cities for opening a new outlet. The chain already has trucks in various cities and you have data for profits and populations from the cities.\""
   ]
  },
  {
   "cell_type": "markdown",
   "metadata": {},
   "source": [
    "### Loading the dataset\n",
    "> \"The file ex1data1.txt contains the dataset for our linear regression problem. The first column is the population of a city and the second column is the profit of a food truck in that city. A negative value for profit indicates a loss.\""
   ]
  },
  {
   "cell_type": "code",
   "execution_count": 3,
   "metadata": {},
   "outputs": [],
   "source": [
    "data = pd.read_csv('data/ex1data1.txt', sep=',', header=None)\n",
    "data.columns = ['population', 'profit']"
   ]
  },
  {
   "cell_type": "markdown",
   "metadata": {},
   "source": [
    "### Exploratory data analysis"
   ]
  },
  {
   "cell_type": "code",
   "execution_count": 4,
   "metadata": {},
   "outputs": [
    {
     "name": "stdout",
     "output_type": "stream",
     "text": [
      "<class 'pandas.core.frame.DataFrame'>\n",
      "RangeIndex: 97 entries, 0 to 96\n",
      "Data columns (total 2 columns):\n",
      "population    97 non-null float64\n",
      "profit        97 non-null float64\n",
      "dtypes: float64(2)\n",
      "memory usage: 1.6 KB\n"
     ]
    }
   ],
   "source": [
    "data.info()"
   ]
  },
  {
   "cell_type": "markdown",
   "metadata": {},
   "source": [
    "* The dataset has 97 examples\n",
    "* Both population (feature) and profit (target feature) are of type float\n",
    "* There are no missing values"
   ]
  },
  {
   "cell_type": "code",
   "execution_count": 5,
   "metadata": {},
   "outputs": [
    {
     "data": {
      "text/html": [
       "<div>\n",
       "<style scoped>\n",
       "    .dataframe tbody tr th:only-of-type {\n",
       "        vertical-align: middle;\n",
       "    }\n",
       "\n",
       "    .dataframe tbody tr th {\n",
       "        vertical-align: top;\n",
       "    }\n",
       "\n",
       "    .dataframe thead th {\n",
       "        text-align: right;\n",
       "    }\n",
       "</style>\n",
       "<table border=\"1\" class=\"dataframe\">\n",
       "  <thead>\n",
       "    <tr style=\"text-align: right;\">\n",
       "      <th></th>\n",
       "      <th>count</th>\n",
       "      <th>mean</th>\n",
       "      <th>std</th>\n",
       "      <th>min</th>\n",
       "      <th>25%</th>\n",
       "      <th>50%</th>\n",
       "      <th>75%</th>\n",
       "      <th>max</th>\n",
       "    </tr>\n",
       "  </thead>\n",
       "  <tbody>\n",
       "    <tr>\n",
       "      <th>population</th>\n",
       "      <td>97.0</td>\n",
       "      <td>8.159800</td>\n",
       "      <td>3.869884</td>\n",
       "      <td>5.0269</td>\n",
       "      <td>5.7077</td>\n",
       "      <td>6.5894</td>\n",
       "      <td>8.5781</td>\n",
       "      <td>22.203</td>\n",
       "    </tr>\n",
       "    <tr>\n",
       "      <th>profit</th>\n",
       "      <td>97.0</td>\n",
       "      <td>5.839135</td>\n",
       "      <td>5.510262</td>\n",
       "      <td>-2.6807</td>\n",
       "      <td>1.9869</td>\n",
       "      <td>4.5623</td>\n",
       "      <td>7.0467</td>\n",
       "      <td>24.147</td>\n",
       "    </tr>\n",
       "  </tbody>\n",
       "</table>\n",
       "</div>"
      ],
      "text/plain": [
       "            count      mean       std     min     25%     50%     75%     max\n",
       "population   97.0  8.159800  3.869884  5.0269  5.7077  6.5894  8.5781  22.203\n",
       "profit       97.0  5.839135  5.510262 -2.6807  1.9869  4.5623  7.0467  24.147"
      ]
     },
     "execution_count": 5,
     "metadata": {},
     "output_type": "execute_result"
    }
   ],
   "source": [
    "data.describe().T"
   ]
  },
  {
   "cell_type": "markdown",
   "metadata": {},
   "source": [
    "#### Relationship between the feature and the target:"
   ]
  },
  {
   "cell_type": "code",
   "execution_count": 6,
   "metadata": {},
   "outputs": [
    {
     "data": {
      "image/png": "[encoded data removed]",
      "text/plain": [
       "<Figure size 432x288 with 1 Axes>"
      ]
     },
     "metadata": {
      "needs_background": "light"
     },
     "output_type": "display_data"
    }
   ],
   "source": [
    "ax = sns.scatterplot(x='population', y='profit', data=data, marker='x', color='r')\n",
    "ax.set(xlabel='Population of City in 10,000s', ylabel='Profit in $10,000s', title='Scatter plot of training data');"
   ]
  },
  {
   "cell_type": "markdown",
   "metadata": {},
   "source": [
    "The plot shows that they have a linear relationship."
   ]
  },
  {
   "cell_type": "markdown",
   "metadata": {},
   "source": [
    "### Gradient descent\n",
    "Running gradient descent to find the optimum values of linear regression coeficients (theta), that is, fitting the model:"
   ]
  },
  {
   "cell_type": "code",
   "execution_count": 7,
   "metadata": {},
   "outputs": [],
   "source": [
    "iterations = 1500\n",
    "alpha = 0.01"
   ]
  },
  {
   "cell_type": "code",
   "execution_count": 8,
   "metadata": {},
   "outputs": [],
   "source": [
    "fitted_model = linear_regression.fit(data.population.values, data.profit.values, \n",
    "                                     learning_rate=alpha, num_iterations=iterations,\n",
    "                                     fit_method='gradient_descent')"
   ]
  },
  {
   "cell_type": "code",
   "execution_count": 9,
   "metadata": {},
   "outputs": [
    {
     "data": {
      "text/plain": [
       "array([[-3.63029144],\n",
       "       [ 1.16636235]])"
      ]
     },
     "execution_count": 9,
     "metadata": {},
     "output_type": "execute_result"
    }
   ],
   "source": [
    "fitted_model['theta']"
   ]
  },
  {
   "cell_type": "markdown",
   "metadata": {},
   "source": [
    "#### Using the fitted model to make predictions on profits in areas of 35,000 and 70,000 people:"
   ]
  },
  {
   "cell_type": "code",
   "execution_count": 10,
   "metadata": {},
   "outputs": [
    {
     "name": "stdout",
     "output_type": "stream",
     "text": [
      "For population = 35,000, we predict a profit of  4519.7678677017675\n"
     ]
    }
   ],
   "source": [
    "y_pred = linear_regression.predict([3.5], fitted_model)\n",
    "print('For population = 35,000, we predict a profit of ', y_pred[0,0]*10000)"
   ]
  },
  {
   "cell_type": "code",
   "execution_count": 11,
   "metadata": {},
   "outputs": [
    {
     "name": "stdout",
     "output_type": "stream",
     "text": [
      "For population = 70,000, we predict a profit of  45342.45012944714\n"
     ]
    }
   ],
   "source": [
    "y_pred = linear_regression.predict([7], fitted_model)\n",
    "print('For population = 70,000, we predict a profit of ', y_pred[0,0]*10000)"
   ]
  },
  {
   "cell_type": "markdown",
   "metadata": {},
   "source": [
    "#### Plot the linear fit:"
   ]
  },
  {
   "cell_type": "code",
   "execution_count": 12,
   "metadata": {},
   "outputs": [
    {
     "data": {
      "image/png": "[encoded data removed]",
      "text/plain": [
       "<Figure size 432x288 with 1 Axes>"
      ]
     },
     "metadata": {
      "needs_background": "light"
     },
     "output_type": "display_data"
    }
   ],
   "source": [
    "ax = sns.scatterplot(x='population', y='profit', data=data, marker='x', color='r')\n",
    "plt.plot(fitted_model['X'][:,1], fitted_model['X'].dot(fitted_model['theta']))\n",
    "ax.set(xlabel='Population of City in 10,000s', ylabel='Profit in $10,000s', title='Training data with linear regression fit');"
   ]
  },
  {
   "cell_type": "markdown",
   "metadata": {},
   "source": [
    "#### Visualizing the cost function J($\\theta$):"
   ]
  },
  {
   "cell_type": "code",
   "execution_count": 13,
   "metadata": {},
   "outputs": [],
   "source": [
    "theta0_vals = np.linspace(-10, 10, 100)\n",
    "theta1_vals = np.linspace(-1, 4, 100)"
   ]
  },
  {
   "cell_type": "code",
   "execution_count": 14,
   "metadata": {},
   "outputs": [],
   "source": [
    "J_vals = np.zeros(shape=(len(theta0_vals), len(theta1_vals)))"
   ]
  },
  {
   "cell_type": "code",
   "execution_count": 15,
   "metadata": {},
   "outputs": [],
   "source": [
    "for i in range(0, len(theta0_vals)):\n",
    "    for j in range(0, len(theta1_vals)):\n",
    "        J_vals[i,j] = linear_regression.compute_cost(fitted_model['X'], \n",
    "                                                     np.array(data.profit.values).reshape(-1,1),\n",
    "                                                     [[theta0_vals[i]], [theta1_vals[j]]])"
   ]
  },
  {
   "cell_type": "code",
   "execution_count": 16,
   "metadata": {},
   "outputs": [
    {
     "data": {
      "image/png": "[encoded data removed]",
      "text/plain": [
       "<Figure size 432x288 with 1 Axes>"
      ]
     },
     "metadata": {
      "needs_background": "light"
     },
     "output_type": "display_data"
    }
   ],
   "source": [
    "ax = plt.contour(theta0_vals, theta1_vals, np.transpose(J_vals), levels=np.logspace(-2,3,20))\n",
    "plt.plot(fitted_model['theta'][0,0], fitted_model['theta'][1,0], marker='x', color='r');\n",
    "plt.xlabel(r'$\\theta_0$');\n",
    "plt.ylabel(r'$\\theta_1$');\n",
    "plt.title('Contour, showing minimum');"
   ]
  },
  {
   "cell_type": "markdown",
   "metadata": {},
   "source": [
    "## Linear Regression with multiple variables\n",
    "> \"Suppose you are selling your house and you want to know what a good market price would be. One way to do this is to first collect information on recent houses sold and make a model of housing prices.\""
   ]
  },
  {
   "cell_type": "markdown",
   "metadata": {},
   "source": [
    "### Loading the dataset\n",
    "> \"The file ex1data2.txt contains a training set of housing prices in Port- land, Oregon. The first column is the size of the house (in square feet), the second column is the number of bedrooms, and the third column is the price of the house.\""
   ]
  },
  {
   "cell_type": "code",
   "execution_count": 17,
   "metadata": {},
   "outputs": [],
   "source": [
    "data2 = pd.read_csv('data/ex1data2.txt', sep=',', header=None)\n",
    "data2.columns = ['house_size', 'bedrooms', 'house_price']"
   ]
  },
  {
   "cell_type": "markdown",
   "metadata": {},
   "source": [
    "### Exploratory data analysis"
   ]
  },
  {
   "cell_type": "code",
   "execution_count": 18,
   "metadata": {},
   "outputs": [
    {
     "name": "stdout",
     "output_type": "stream",
     "text": [
      "<class 'pandas.core.frame.DataFrame'>\n",
      "RangeIndex: 47 entries, 0 to 46\n",
      "Data columns (total 3 columns):\n",
      "house_size     47 non-null int64\n",
      "bedrooms       47 non-null int64\n",
      "house_price    47 non-null int64\n",
      "dtypes: int64(3)\n",
      "memory usage: 1.2 KB\n"
     ]
    }
   ],
   "source": [
    "data2.info()"
   ]
  },
  {
   "cell_type": "markdown",
   "metadata": {},
   "source": [
    "* The dataset has 47 examples\n",
    "* All the features are of type int\n",
    "* There are no missing values"
   ]
  },
  {
   "cell_type": "code",
   "execution_count": 19,
   "metadata": {},
   "outputs": [
    {
     "data": {
      "text/html": [
       "<div>\n",
       "<style scoped>\n",
       "    .dataframe tbody tr th:only-of-type {\n",
       "        vertical-align: middle;\n",
       "    }\n",
       "\n",
       "    .dataframe tbody tr th {\n",
       "        vertical-align: top;\n",
       "    }\n",
       "\n",
       "    .dataframe thead th {\n",
       "        text-align: right;\n",
       "    }\n",
       "</style>\n",
       "<table border=\"1\" class=\"dataframe\">\n",
       "  <thead>\n",
       "    <tr style=\"text-align: right;\">\n",
       "      <th></th>\n",
       "      <th>count</th>\n",
       "      <th>mean</th>\n",
       "      <th>std</th>\n",
       "      <th>min</th>\n",
       "      <th>25%</th>\n",
       "      <th>50%</th>\n",
       "      <th>75%</th>\n",
       "      <th>max</th>\n",
       "    </tr>\n",
       "  </thead>\n",
       "  <tbody>\n",
       "    <tr>\n",
       "      <th>house_size</th>\n",
       "      <td>47.0</td>\n",
       "      <td>2000.680851</td>\n",
       "      <td>794.702354</td>\n",
       "      <td>852.0</td>\n",
       "      <td>1432.0</td>\n",
       "      <td>1888.0</td>\n",
       "      <td>2269.0</td>\n",
       "      <td>4478.0</td>\n",
       "    </tr>\n",
       "    <tr>\n",
       "      <th>bedrooms</th>\n",
       "      <td>47.0</td>\n",
       "      <td>3.170213</td>\n",
       "      <td>0.760982</td>\n",
       "      <td>1.0</td>\n",
       "      <td>3.0</td>\n",
       "      <td>3.0</td>\n",
       "      <td>4.0</td>\n",
       "      <td>5.0</td>\n",
       "    </tr>\n",
       "    <tr>\n",
       "      <th>house_price</th>\n",
       "      <td>47.0</td>\n",
       "      <td>340412.659574</td>\n",
       "      <td>125039.899586</td>\n",
       "      <td>169900.0</td>\n",
       "      <td>249900.0</td>\n",
       "      <td>299900.0</td>\n",
       "      <td>384450.0</td>\n",
       "      <td>699900.0</td>\n",
       "    </tr>\n",
       "  </tbody>\n",
       "</table>\n",
       "</div>"
      ],
      "text/plain": [
       "             count           mean            std       min       25%  \\\n",
       "house_size    47.0    2000.680851     794.702354     852.0    1432.0   \n",
       "bedrooms      47.0       3.170213       0.760982       1.0       3.0   \n",
       "house_price   47.0  340412.659574  125039.899586  169900.0  249900.0   \n",
       "\n",
       "                  50%       75%       max  \n",
       "house_size     1888.0    2269.0    4478.0  \n",
       "bedrooms          3.0       4.0       5.0  \n",
       "house_price  299900.0  384450.0  699900.0  "
      ]
     },
     "execution_count": 19,
     "metadata": {},
     "output_type": "execute_result"
    }
   ],
   "source": [
    "data2.describe().T"
   ]
  },
  {
   "cell_type": "markdown",
   "metadata": {},
   "source": [
    "> \"House sizes are about 1000 times the number of bedrooms. When features differ by orders of magnitude, first performing feature scaling can make gradient descent converge much more quickly.\""
   ]
  },
  {
   "cell_type": "markdown",
   "metadata": {},
   "source": [
    "### Gradient descent\n",
    "Running gradient descent to find the optimum values of linear regression coeficients (theta), that is, fitting the model."
   ]
  },
  {
   "cell_type": "code",
   "execution_count": 20,
   "metadata": {},
   "outputs": [],
   "source": [
    "iterations = 1500\n",
    "alpha = 0.01"
   ]
  },
  {
   "cell_type": "code",
   "execution_count": 21,
   "metadata": {},
   "outputs": [],
   "source": [
    "fitted_model = linear_regression.fit(data2[['house_size', 'bedrooms']], data2.house_price.values, \n",
    "                                     learning_rate=alpha, num_iterations=iterations,\n",
    "                                     normalize=True,fit_method='gradient_descent')"
   ]
  },
  {
   "cell_type": "code",
   "execution_count": 22,
   "metadata": {},
   "outputs": [
    {
     "data": {
      "text/plain": [
       "array([[340412.56301439],\n",
       "       [110540.56654627],\n",
       "       [ -6558.99054811]])"
      ]
     },
     "execution_count": 22,
     "metadata": {},
     "output_type": "execute_result"
    }
   ],
   "source": [
    "fitted_model['theta']"
   ]
  },
  {
   "cell_type": "markdown",
   "metadata": {},
   "source": [
    "#### Selecting learning rates"
   ]
  },
  {
   "cell_type": "code",
   "execution_count": 23,
   "metadata": {},
   "outputs": [],
   "source": [
    "alpha = [0.3, 0.1, 0.03, 0.01]\n",
    "colors = ['b','r','g','c']\n",
    "num_iters = 50"
   ]
  },
  {
   "cell_type": "code",
   "execution_count": 24,
   "metadata": {},
   "outputs": [
    {
     "data": {
      "image/png": "[encoded data removed]",
      "text/plain": [
       "<Figure size 432x288 with 1 Axes>"
      ]
     },
     "metadata": {
      "needs_background": "light"
     },
     "output_type": "display_data"
    }
   ],
   "source": [
    "for i in range(0, len(alpha)):\n",
    "    fitted_model = linear_regression.fit(data2[['house_size', 'bedrooms']], data2.house_price.values, \n",
    "                                         learning_rate=alpha[i], num_iterations=num_iters,\n",
    "                                         normalize=True,fit_method='gradient_descent')\n",
    "    plt.plot(range(len(fitted_model['J_history'])), fitted_model['J_history'], colors[i], label='Alpha {}'.format(alpha[i]))\n",
    "plt.xlabel('Number of iterations');\n",
    "plt.ylabel('Cost J');\n",
    "plt.title('Selecting learning rates');\n",
    "plt.legend()\n",
    "plt.show()"
   ]
  },
  {
   "cell_type": "markdown",
   "metadata": {},
   "source": [
    "#### Fitting the model again with the best learning rate:"
   ]
  },
  {
   "cell_type": "code",
   "execution_count": 25,
   "metadata": {},
   "outputs": [],
   "source": [
    "alpha = 0.1\n",
    "num_iters = 250\n",
    "fitted_model = linear_regression.fit(data2[['house_size', 'bedrooms']], data2.house_price.values, \n",
    "                                     learning_rate=alpha, num_iterations=num_iters,\n",
    "                                     normalize=True,fit_method='gradient_descent')"
   ]
  },
  {
   "cell_type": "code",
   "execution_count": 26,
   "metadata": {},
   "outputs": [
    {
     "data": {
      "text/plain": [
       "array([[340412.65957323],\n",
       "       [110630.07624443],\n",
       "       [ -6648.5002364 ]])"
      ]
     },
     "execution_count": 26,
     "metadata": {},
     "output_type": "execute_result"
    }
   ],
   "source": [
    "fitted_model['theta']"
   ]
  },
  {
   "cell_type": "markdown",
   "metadata": {},
   "source": [
    "#### Estimate the price of a 1650 sq-ft, 3 bedrooms house"
   ]
  },
  {
   "cell_type": "code",
   "execution_count": 27,
   "metadata": {},
   "outputs": [
    {
     "name": "stdout",
     "output_type": "stream",
     "text": [
      "Price of a house with 1650 square feet and 3 bedrooms: $ 293081.6762816132\n"
     ]
    }
   ],
   "source": [
    "y_pred = linear_regression.predict([[1650.0, 3.0]], fitted_model)\n",
    "print('Price of a house with 1650 square feet and 3 bedrooms: $', y_pred[0,0])"
   ]
  },
  {
   "cell_type": "markdown",
   "metadata": {},
   "source": [
    "## Normal Equation\n",
    ">\"The closed-form solution to linear regression is $\\theta = {(X^T X)}^{-1} X^Ty$. Using this formula does not require any feature scaling, and you will get an exact solution in one calculation: there is no “loop until convergence” like in gradient descent.\""
   ]
  },
  {
   "cell_type": "code",
   "execution_count": 28,
   "metadata": {},
   "outputs": [],
   "source": [
    "fitted_model = linear_regression.fit(data2[['house_size', 'bedrooms']], data2.house_price.values, \n",
    "                                     fit_method='normal_equation')"
   ]
  },
  {
   "cell_type": "code",
   "execution_count": 29,
   "metadata": {},
   "outputs": [
    {
     "data": {
      "text/plain": [
       "array([[89597.90954355],\n",
       "       [  139.21067402],\n",
       "       [-8738.01911255]])"
      ]
     },
     "execution_count": 29,
     "metadata": {},
     "output_type": "execute_result"
    }
   ],
   "source": [
    "fitted_model['theta']"
   ]
  },
  {
   "cell_type": "markdown",
   "metadata": {},
   "source": [
    "#### Estimate the price of a 1650 sq-ft, 3 bedrooms house"
   ]
  },
  {
   "cell_type": "code",
   "execution_count": 30,
   "metadata": {},
   "outputs": [
    {
     "name": "stdout",
     "output_type": "stream",
     "text": [
      "Price of a house with 1650 square feet and 3 bedrooms: $ 293081.4643349717\n"
     ]
    }
   ],
   "source": [
    "y_pred = linear_regression.predict([[1650.0, 3.0]], fitted_model)\n",
    "print('Price of a house with 1650 square feet and 3 bedrooms: $', y_pred[0,0])"
   ]
  }
 ],
 "metadata": {
  "kernelspec": {
   "display_name": "Python 3",
   "language": "python",
   "name": "python3"
  },
  "language_info": {
   "codemirror_mode": {
    "name": "ipython",
    "version": 3
   },
   "file_extension": ".py",
   "mimetype": "text/x-python",
   "name": "python",
   "nbconvert_exporter": "python",
   "pygments_lexer": "ipython3",
   "version": "3.6.4"
  }
 },
 "nbformat": 4,
 "nbformat_minor": 2
}
